{
 "cells": [
  {
   "cell_type": "code",
   "execution_count": 1,
   "metadata": {},
   "outputs": [],
   "source": [
    "import os\n",
    "import numpy as np\n",
    "import pandas as pd\n",
    "import matplotlib.pyplot as plt"
   ]
  },
  {
   "cell_type": "code",
   "execution_count": null,
   "metadata": {},
   "outputs": [],
   "source": [
    "train_dir = '../../data/dataset/train'\n",
    "val_dir = '../../data/dataset/validation'\n",
    "test_dir = '../../data/dataset/test'"
   ]
  },
  {
   "cell_type": "code",
   "execution_count": null,
   "metadata": {},
   "outputs": [],
   "source": [
    "articles = pd.read_csv('../../data/raw/articles.csv')"
   ]
  },
  {
   "cell_type": "code",
   "execution_count": 4,
   "metadata": {},
   "outputs": [
    {
     "data": {
      "text/html": [
       "<div>\n",
       "<style scoped>\n",
       "    .dataframe tbody tr th:only-of-type {\n",
       "        vertical-align: middle;\n",
       "    }\n",
       "\n",
       "    .dataframe tbody tr th {\n",
       "        vertical-align: top;\n",
       "    }\n",
       "\n",
       "    .dataframe thead th {\n",
       "        text-align: right;\n",
       "    }\n",
       "</style>\n",
       "<table border=\"1\" class=\"dataframe\">\n",
       "  <thead>\n",
       "    <tr style=\"text-align: right;\">\n",
       "      <th></th>\n",
       "      <th>article_id</th>\n",
       "      <th>product_code</th>\n",
       "      <th>prod_name</th>\n",
       "      <th>product_type_no</th>\n",
       "      <th>product_type_name</th>\n",
       "      <th>product_group_name</th>\n",
       "      <th>graphical_appearance_no</th>\n",
       "      <th>graphical_appearance_name</th>\n",
       "      <th>colour_group_code</th>\n",
       "      <th>colour_group_name</th>\n",
       "      <th>...</th>\n",
       "      <th>department_name</th>\n",
       "      <th>index_code</th>\n",
       "      <th>index_name</th>\n",
       "      <th>index_group_no</th>\n",
       "      <th>index_group_name</th>\n",
       "      <th>section_no</th>\n",
       "      <th>section_name</th>\n",
       "      <th>garment_group_no</th>\n",
       "      <th>garment_group_name</th>\n",
       "      <th>detail_desc</th>\n",
       "    </tr>\n",
       "  </thead>\n",
       "  <tbody>\n",
       "    <tr>\n",
       "      <th>0</th>\n",
       "      <td>108775015</td>\n",
       "      <td>108775</td>\n",
       "      <td>Strap top</td>\n",
       "      <td>253</td>\n",
       "      <td>Vest top</td>\n",
       "      <td>Garment Upper body</td>\n",
       "      <td>1010016</td>\n",
       "      <td>Solid</td>\n",
       "      <td>9</td>\n",
       "      <td>Black</td>\n",
       "      <td>...</td>\n",
       "      <td>Jersey Basic</td>\n",
       "      <td>A</td>\n",
       "      <td>Ladieswear</td>\n",
       "      <td>1</td>\n",
       "      <td>Ladieswear</td>\n",
       "      <td>16</td>\n",
       "      <td>Womens Everyday Basics</td>\n",
       "      <td>1002</td>\n",
       "      <td>Jersey Basic</td>\n",
       "      <td>Jersey top with narrow shoulder straps.</td>\n",
       "    </tr>\n",
       "    <tr>\n",
       "      <th>1</th>\n",
       "      <td>108775044</td>\n",
       "      <td>108775</td>\n",
       "      <td>Strap top</td>\n",
       "      <td>253</td>\n",
       "      <td>Vest top</td>\n",
       "      <td>Garment Upper body</td>\n",
       "      <td>1010016</td>\n",
       "      <td>Solid</td>\n",
       "      <td>10</td>\n",
       "      <td>White</td>\n",
       "      <td>...</td>\n",
       "      <td>Jersey Basic</td>\n",
       "      <td>A</td>\n",
       "      <td>Ladieswear</td>\n",
       "      <td>1</td>\n",
       "      <td>Ladieswear</td>\n",
       "      <td>16</td>\n",
       "      <td>Womens Everyday Basics</td>\n",
       "      <td>1002</td>\n",
       "      <td>Jersey Basic</td>\n",
       "      <td>Jersey top with narrow shoulder straps.</td>\n",
       "    </tr>\n",
       "    <tr>\n",
       "      <th>2</th>\n",
       "      <td>108775051</td>\n",
       "      <td>108775</td>\n",
       "      <td>Strap top (1)</td>\n",
       "      <td>253</td>\n",
       "      <td>Vest top</td>\n",
       "      <td>Garment Upper body</td>\n",
       "      <td>1010017</td>\n",
       "      <td>Stripe</td>\n",
       "      <td>11</td>\n",
       "      <td>Off White</td>\n",
       "      <td>...</td>\n",
       "      <td>Jersey Basic</td>\n",
       "      <td>A</td>\n",
       "      <td>Ladieswear</td>\n",
       "      <td>1</td>\n",
       "      <td>Ladieswear</td>\n",
       "      <td>16</td>\n",
       "      <td>Womens Everyday Basics</td>\n",
       "      <td>1002</td>\n",
       "      <td>Jersey Basic</td>\n",
       "      <td>Jersey top with narrow shoulder straps.</td>\n",
       "    </tr>\n",
       "    <tr>\n",
       "      <th>3</th>\n",
       "      <td>110065001</td>\n",
       "      <td>110065</td>\n",
       "      <td>OP T-shirt (Idro)</td>\n",
       "      <td>306</td>\n",
       "      <td>Bra</td>\n",
       "      <td>Underwear</td>\n",
       "      <td>1010016</td>\n",
       "      <td>Solid</td>\n",
       "      <td>9</td>\n",
       "      <td>Black</td>\n",
       "      <td>...</td>\n",
       "      <td>Clean Lingerie</td>\n",
       "      <td>B</td>\n",
       "      <td>Lingeries/Tights</td>\n",
       "      <td>1</td>\n",
       "      <td>Ladieswear</td>\n",
       "      <td>61</td>\n",
       "      <td>Womens Lingerie</td>\n",
       "      <td>1017</td>\n",
       "      <td>Under-, Nightwear</td>\n",
       "      <td>Microfibre T-shirt bra with underwired, moulde...</td>\n",
       "    </tr>\n",
       "    <tr>\n",
       "      <th>4</th>\n",
       "      <td>110065002</td>\n",
       "      <td>110065</td>\n",
       "      <td>OP T-shirt (Idro)</td>\n",
       "      <td>306</td>\n",
       "      <td>Bra</td>\n",
       "      <td>Underwear</td>\n",
       "      <td>1010016</td>\n",
       "      <td>Solid</td>\n",
       "      <td>10</td>\n",
       "      <td>White</td>\n",
       "      <td>...</td>\n",
       "      <td>Clean Lingerie</td>\n",
       "      <td>B</td>\n",
       "      <td>Lingeries/Tights</td>\n",
       "      <td>1</td>\n",
       "      <td>Ladieswear</td>\n",
       "      <td>61</td>\n",
       "      <td>Womens Lingerie</td>\n",
       "      <td>1017</td>\n",
       "      <td>Under-, Nightwear</td>\n",
       "      <td>Microfibre T-shirt bra with underwired, moulde...</td>\n",
       "    </tr>\n",
       "  </tbody>\n",
       "</table>\n",
       "<p>5 rows × 25 columns</p>\n",
       "</div>"
      ],
      "text/plain": [
       "   article_id  product_code          prod_name  product_type_no  \\\n",
       "0   108775015        108775          Strap top              253   \n",
       "1   108775044        108775          Strap top              253   \n",
       "2   108775051        108775      Strap top (1)              253   \n",
       "3   110065001        110065  OP T-shirt (Idro)              306   \n",
       "4   110065002        110065  OP T-shirt (Idro)              306   \n",
       "\n",
       "  product_type_name  product_group_name  graphical_appearance_no  \\\n",
       "0          Vest top  Garment Upper body                  1010016   \n",
       "1          Vest top  Garment Upper body                  1010016   \n",
       "2          Vest top  Garment Upper body                  1010017   \n",
       "3               Bra           Underwear                  1010016   \n",
       "4               Bra           Underwear                  1010016   \n",
       "\n",
       "  graphical_appearance_name  colour_group_code colour_group_name  ...  \\\n",
       "0                     Solid                  9             Black  ...   \n",
       "1                     Solid                 10             White  ...   \n",
       "2                    Stripe                 11         Off White  ...   \n",
       "3                     Solid                  9             Black  ...   \n",
       "4                     Solid                 10             White  ...   \n",
       "\n",
       "   department_name index_code        index_name index_group_no  \\\n",
       "0     Jersey Basic          A        Ladieswear              1   \n",
       "1     Jersey Basic          A        Ladieswear              1   \n",
       "2     Jersey Basic          A        Ladieswear              1   \n",
       "3   Clean Lingerie          B  Lingeries/Tights              1   \n",
       "4   Clean Lingerie          B  Lingeries/Tights              1   \n",
       "\n",
       "   index_group_name section_no            section_name garment_group_no  \\\n",
       "0        Ladieswear         16  Womens Everyday Basics             1002   \n",
       "1        Ladieswear         16  Womens Everyday Basics             1002   \n",
       "2        Ladieswear         16  Womens Everyday Basics             1002   \n",
       "3        Ladieswear         61         Womens Lingerie             1017   \n",
       "4        Ladieswear         61         Womens Lingerie             1017   \n",
       "\n",
       "   garment_group_name                                        detail_desc  \n",
       "0        Jersey Basic            Jersey top with narrow shoulder straps.  \n",
       "1        Jersey Basic            Jersey top with narrow shoulder straps.  \n",
       "2        Jersey Basic            Jersey top with narrow shoulder straps.  \n",
       "3   Under-, Nightwear  Microfibre T-shirt bra with underwired, moulde...  \n",
       "4   Under-, Nightwear  Microfibre T-shirt bra with underwired, moulde...  \n",
       "\n",
       "[5 rows x 25 columns]"
      ]
     },
     "execution_count": 4,
     "metadata": {},
     "output_type": "execute_result"
    }
   ],
   "source": [
    "articles.head()"
   ]
  },
  {
   "cell_type": "code",
   "execution_count": 5,
   "metadata": {},
   "outputs": [],
   "source": [
    "# Load images function\n",
    "def load_images(folder_path):\n",
    "    ids = []\n",
    "    labels = []\n",
    "    paths = []\n",
    "\n",
    "    for class_folder in os.listdir(folder_path):\n",
    "        \n",
    "        if class_folder == '.DS_Store': continue\n",
    "        class_path = os.path.join(folder_path, class_folder)\n",
    "        \n",
    "        for file in os.listdir(class_path):\n",
    "            file_path = os.path.join(class_path, file)\n",
    "            img_id = file_path[-14: -4]\n",
    "            ids.append(img_id)\n",
    "            labels.append(class_folder)\n",
    "    return np.array(ids), np.array(labels)"
   ]
  },
  {
   "cell_type": "code",
   "execution_count": 6,
   "metadata": {},
   "outputs": [],
   "source": [
    "# Load training, validation, and test data\n",
    "train_ids, train_labels = load_images(train_dir)\n",
    "val_ids, val_labels = load_images(val_dir)\n",
    "test_ids, test_labels = load_images(test_dir)"
   ]
  },
  {
   "cell_type": "code",
   "execution_count": 7,
   "metadata": {},
   "outputs": [
    {
     "name": "stdout",
     "output_type": "stream",
     "text": [
      "ids_arr.shape=(6000,)\n",
      "labels_arr.shape=(6000,)\n"
     ]
    }
   ],
   "source": [
    "ids_arr = np.append(train_ids, val_ids)\n",
    "ids_arr = np.append(ids_arr, test_ids)\n",
    "\n",
    "labels_arr = np.append(train_labels, val_labels)\n",
    "labels_arr = np.append(labels_arr, test_labels)\n",
    "\n",
    "print(f'{ids_arr.shape=}')\n",
    "print(f'{labels_arr.shape=}')"
   ]
  },
  {
   "cell_type": "code",
   "execution_count": 8,
   "metadata": {},
   "outputs": [
    {
     "data": {
      "text/plain": [
       "0         108775015\n",
       "1         108775044\n",
       "2         108775051\n",
       "3         110065001\n",
       "4         110065002\n",
       "            ...    \n",
       "105537    953450001\n",
       "105538    953763001\n",
       "105539    956217002\n",
       "105540    957375001\n",
       "105541    959461001\n",
       "Name: article_id, Length: 105542, dtype: int64"
      ]
     },
     "execution_count": 8,
     "metadata": {},
     "output_type": "execute_result"
    }
   ],
   "source": [
    "articles['article_id']"
   ]
  },
  {
   "cell_type": "code",
   "execution_count": 9,
   "metadata": {},
   "outputs": [
    {
     "data": {
      "text/plain": [
       "0         0108775015\n",
       "1         0108775044\n",
       "2         0108775051\n",
       "3         0110065001\n",
       "4         0110065002\n",
       "             ...    \n",
       "105537    0953450001\n",
       "105538    0953763001\n",
       "105539    0956217002\n",
       "105540    0957375001\n",
       "105541    0959461001\n",
       "Name: article_id, Length: 105542, dtype: object"
      ]
     },
     "execution_count": 9,
     "metadata": {},
     "output_type": "execute_result"
    }
   ],
   "source": [
    "articles['article_id'] = '0' + articles['article_id'].astype(str)\n",
    "articles['article_id']"
   ]
  },
  {
   "cell_type": "code",
   "execution_count": 10,
   "metadata": {},
   "outputs": [],
   "source": [
    "dataset_articles = articles[articles['article_id'].isin(ids_arr)]"
   ]
  },
  {
   "cell_type": "code",
   "execution_count": 11,
   "metadata": {},
   "outputs": [
    {
     "data": {
      "text/plain": [
       "(6000, 25)"
      ]
     },
     "execution_count": 11,
     "metadata": {},
     "output_type": "execute_result"
    }
   ],
   "source": [
    "dataset_articles.shape"
   ]
  },
  {
   "cell_type": "code",
   "execution_count": 12,
   "metadata": {},
   "outputs": [],
   "source": [
    "# Select and rename relevant columns for clarity\n",
    "relevant_columns = {\n",
    "    'article_id': 'id',\n",
    "    'product_type_name': 'type',\n",
    "    'product_group_name': 'group',\n",
    "    'graphical_appearance_name': 'pattern',\n",
    "    'colour_group_name': 'group_color',\n",
    "    'perceived_colour_master_name': 'perceived_color',\n",
    "    'index_name': 'index',\n",
    "    'section_name': 'section',\n",
    "    'garment_group_name': 'garment_group'\n",
    "}"
   ]
  },
  {
   "cell_type": "code",
   "execution_count": 13,
   "metadata": {},
   "outputs": [],
   "source": [
    "metadata = dataset_articles[relevant_columns.keys()].rename(columns=relevant_columns)"
   ]
  },
  {
   "cell_type": "code",
   "execution_count": 14,
   "metadata": {},
   "outputs": [
    {
     "data": {
      "text/html": [
       "<div>\n",
       "<style scoped>\n",
       "    .dataframe tbody tr th:only-of-type {\n",
       "        vertical-align: middle;\n",
       "    }\n",
       "\n",
       "    .dataframe tbody tr th {\n",
       "        vertical-align: top;\n",
       "    }\n",
       "\n",
       "    .dataframe thead th {\n",
       "        text-align: right;\n",
       "    }\n",
       "</style>\n",
       "<table border=\"1\" class=\"dataframe\">\n",
       "  <thead>\n",
       "    <tr style=\"text-align: right;\">\n",
       "      <th></th>\n",
       "      <th>id</th>\n",
       "      <th>type</th>\n",
       "      <th>group</th>\n",
       "      <th>pattern</th>\n",
       "      <th>group_color</th>\n",
       "      <th>perceived_color</th>\n",
       "      <th>index</th>\n",
       "      <th>section</th>\n",
       "      <th>garment_group</th>\n",
       "    </tr>\n",
       "  </thead>\n",
       "  <tbody>\n",
       "    <tr>\n",
       "      <th>43</th>\n",
       "      <td>0145872051</td>\n",
       "      <td>Top</td>\n",
       "      <td>Garment Upper body</td>\n",
       "      <td>Melange</td>\n",
       "      <td>Black</td>\n",
       "      <td>Black</td>\n",
       "      <td>Sport</td>\n",
       "      <td>Men H&amp;M Sport</td>\n",
       "      <td>Jersey Fancy</td>\n",
       "    </tr>\n",
       "    <tr>\n",
       "      <th>55</th>\n",
       "      <td>0150959011</td>\n",
       "      <td>Trousers</td>\n",
       "      <td>Garment Lower body</td>\n",
       "      <td>Solid</td>\n",
       "      <td>Black</td>\n",
       "      <td>Black</td>\n",
       "      <td>Sport</td>\n",
       "      <td>Men H&amp;M Sport</td>\n",
       "      <td>Jersey Fancy</td>\n",
       "    </tr>\n",
       "    <tr>\n",
       "      <th>56</th>\n",
       "      <td>0150959013</td>\n",
       "      <td>Trousers</td>\n",
       "      <td>Garment Lower body</td>\n",
       "      <td>Solid</td>\n",
       "      <td>Dark Grey</td>\n",
       "      <td>Grey</td>\n",
       "      <td>Sport</td>\n",
       "      <td>Men H&amp;M Sport</td>\n",
       "      <td>Jersey Fancy</td>\n",
       "    </tr>\n",
       "    <tr>\n",
       "      <th>69</th>\n",
       "      <td>0156289011</td>\n",
       "      <td>Trousers</td>\n",
       "      <td>Garment Lower body</td>\n",
       "      <td>Denim</td>\n",
       "      <td>Blue</td>\n",
       "      <td>Blue</td>\n",
       "      <td>Children Sizes 92-140</td>\n",
       "      <td>Kids Boy</td>\n",
       "      <td>Trousers Denim</td>\n",
       "    </tr>\n",
       "    <tr>\n",
       "      <th>70</th>\n",
       "      <td>0156610001</td>\n",
       "      <td>Trousers</td>\n",
       "      <td>Garment Lower body</td>\n",
       "      <td>Solid</td>\n",
       "      <td>Black</td>\n",
       "      <td>Black</td>\n",
       "      <td>Sport</td>\n",
       "      <td>Men H&amp;M Sport</td>\n",
       "      <td>Jersey Fancy</td>\n",
       "    </tr>\n",
       "  </tbody>\n",
       "</table>\n",
       "</div>"
      ],
      "text/plain": [
       "            id      type               group  pattern group_color  \\\n",
       "43  0145872051       Top  Garment Upper body  Melange       Black   \n",
       "55  0150959011  Trousers  Garment Lower body    Solid       Black   \n",
       "56  0150959013  Trousers  Garment Lower body    Solid   Dark Grey   \n",
       "69  0156289011  Trousers  Garment Lower body    Denim        Blue   \n",
       "70  0156610001  Trousers  Garment Lower body    Solid       Black   \n",
       "\n",
       "   perceived_color                  index        section   garment_group  \n",
       "43           Black                  Sport  Men H&M Sport    Jersey Fancy  \n",
       "55           Black                  Sport  Men H&M Sport    Jersey Fancy  \n",
       "56            Grey                  Sport  Men H&M Sport    Jersey Fancy  \n",
       "69            Blue  Children Sizes 92-140       Kids Boy  Trousers Denim  \n",
       "70           Black                  Sport  Men H&M Sport    Jersey Fancy  "
      ]
     },
     "execution_count": 14,
     "metadata": {},
     "output_type": "execute_result"
    }
   ],
   "source": [
    "metadata.head()"
   ]
  },
  {
   "cell_type": "code",
   "execution_count": 15,
   "metadata": {},
   "outputs": [
    {
     "data": {
      "text/plain": [
       "Index(['Solid', 'All over pattern', 'Stripe', 'Melange', 'Front print',\n",
       "       'Denim', 'Placement print', 'Sequin', 'Check', 'Embroidery',\n",
       "       'Colour blocking', 'Application/3D', 'Jacquard', 'Lace',\n",
       "       'Other structure', 'Dot', 'Glittering/Metallic', 'Treatment',\n",
       "       'Mixed solid/pattern', 'Slub', 'Chambray', 'Contrast', 'Mesh',\n",
       "       'Metallic', 'Neps', 'Other pattern', 'Argyle', 'Transparent'],\n",
       "      dtype='object', name='pattern')"
      ]
     },
     "execution_count": 15,
     "metadata": {},
     "output_type": "execute_result"
    }
   ],
   "source": [
    "patterns = metadata.value_counts('pattern').index\n",
    "patterns"
   ]
  },
  {
   "cell_type": "code",
   "execution_count": 16,
   "metadata": {},
   "outputs": [
    {
     "data": {
      "text/plain": [
       "Index(['Black', 'White', 'Dark Blue', 'Light Pink', 'Light Beige', 'Off White',\n",
       "       'Beige', 'Red', 'Grey', 'Blue', 'Greenish Khaki', 'Light Blue',\n",
       "       'Dark Green', 'Pink', 'Dark Red', 'Dark Grey', 'Yellow', 'Light Yellow',\n",
       "       'Light Orange', 'Yellowish Brown', 'Light Grey', 'Dark Beige',\n",
       "       'Dark Orange', 'Light Green', 'Green', 'Light Turquoise', 'Dark Pink',\n",
       "       'Orange', 'Light Purple', 'Dark Yellow', 'Dark Turquoise', 'Turquoise',\n",
       "       'Greyish Beige', 'Other Pink', 'Light Red', 'Other Yellow',\n",
       "       'Other Orange', 'Other Blue', 'Dark Purple', 'Other Green', 'Purple',\n",
       "       'Silver', 'Other Red', 'Other', 'Bronze/Copper'],\n",
       "      dtype='object', name='group_color')"
      ]
     },
     "execution_count": 16,
     "metadata": {},
     "output_type": "execute_result"
    }
   ],
   "source": [
    "patterns = metadata.value_counts('group_color').index\n",
    "patterns"
   ]
  },
  {
   "cell_type": "code",
   "execution_count": 17,
   "metadata": {},
   "outputs": [],
   "source": [
    "# Define upper-body and lower-body categories for logical compatibility\n",
    "upper_body = ['T-shirt', 'Top', 'Blouse', 'Sweater']\n",
    "lower_body = ['Trousers']\n",
    "one_piece = ['Dress']"
   ]
  },
  {
   "cell_type": "code",
   "execution_count": 18,
   "metadata": {},
   "outputs": [],
   "source": [
    "def categorize_item(product_type):\n",
    "    if product_type in upper_body:\n",
    "        return 'upper_body'\n",
    "    elif product_type in lower_body:\n",
    "        return 'lower_body'\n",
    "    elif product_type in one_piece:\n",
    "        return 'one_piece'\n",
    "    else:\n",
    "        return 'other'"
   ]
  },
  {
   "cell_type": "code",
   "execution_count": 19,
   "metadata": {},
   "outputs": [],
   "source": [
    "metadata['category'] = metadata['type'].apply(categorize_item)"
   ]
  },
  {
   "cell_type": "code",
   "execution_count": 20,
   "metadata": {},
   "outputs": [],
   "source": [
    "# Simplify patterns for compatibility logic\n",
    "solid_patterns = ['Solid', 'Melange', 'Chambray', 'Plain']\n",
    "printed_patterns = ['All over pattern', 'Front print', 'Placement print', \n",
    "                    'Sequin', 'Embroidery', 'Application/3D', 'Jacquard', \n",
    "                    'Lace', 'Dot', 'Mixed solid/pattern', 'Contrast', \n",
    "                    'Argyle', 'Transparent']\n",
    "structured_patterns = ['Denim', 'Check', 'Colour blocking', \n",
    "                       'Glittering/Metallic', 'Mesh', 'Metallic', \n",
    "                       'Neps', 'Slub', 'Other structure', 'Treatment']\n",
    "other_patterns = ['Other pattern']\n",
    "\n",
    "def simplify_pattern(pattern):\n",
    "    if pattern in solid_patterns:\n",
    "        return 'solid'\n",
    "    elif pattern in printed_patterns:\n",
    "        return 'printed'\n",
    "    elif pattern in structured_patterns:\n",
    "        return 'structured'\n",
    "    elif pattern in other_patterns:\n",
    "        return 'other'\n",
    "    else:\n",
    "        return 'unknown'\n"
   ]
  },
  {
   "cell_type": "code",
   "execution_count": 21,
   "metadata": {},
   "outputs": [],
   "source": [
    "metadata['simplified_pattern'] = metadata['pattern'].apply(simplify_pattern)"
   ]
  },
  {
   "cell_type": "code",
   "execution_count": 22,
   "metadata": {},
   "outputs": [],
   "source": [
    "# Simplify color groups for compatibility logic\n",
    "neutral_colors = ['Black', 'White', 'Grey', 'Beige', 'Off White', 'Light Grey', 'Dark Grey', 'Greyish Beige', 'Dark Beige']\n",
    "warm_colors = ['Red', 'Pink', 'Orange', 'Yellow', 'Dark Red', 'Light Pink', 'Light Orange', 'Light Yellow', 'Dark Orange', 'Dark Yellow', 'Other Red', 'Other Pink', 'Other Orange', 'Other Yellow']\n",
    "cool_colors = ['Blue', 'Dark Blue', 'Light Blue', 'Turquoise', 'Light Turquoise', 'Dark Turquoise', 'Green', 'Dark Green', 'Light Green', 'Greenish Khaki', 'Other Blue', 'Other Green']\n",
    "purple_colors = ['Purple', 'Light Purple', 'Dark Purple']\n",
    "metallic_colors = ['Silver', 'Bronze/Copper']\n",
    "\n",
    "def categorize_color(color):\n",
    "    if color in neutral_colors:\n",
    "        return 'neutral'\n",
    "    elif color in warm_colors:\n",
    "        return 'warm'\n",
    "    elif color in cool_colors:\n",
    "        return 'cool'\n",
    "    elif color in purple_colors:\n",
    "        return 'purple'\n",
    "    elif color in metallic_colors:\n",
    "        return 'metallic'\n",
    "    else:\n",
    "        return 'other'\n"
   ]
  },
  {
   "cell_type": "code",
   "execution_count": 23,
   "metadata": {},
   "outputs": [],
   "source": [
    "metadata['color_gategory'] = metadata['group_color'].apply(categorize_color)"
   ]
  },
  {
   "cell_type": "code",
   "execution_count": 24,
   "metadata": {},
   "outputs": [
    {
     "name": "stdout",
     "output_type": "stream",
     "text": [
      "Metadata with Derived Columns:\n",
      "            id      type               group  pattern group_color  \\\n",
      "43  0145872051       Top  Garment Upper body  Melange       Black   \n",
      "55  0150959011  Trousers  Garment Lower body    Solid       Black   \n",
      "56  0150959013  Trousers  Garment Lower body    Solid   Dark Grey   \n",
      "69  0156289011  Trousers  Garment Lower body    Denim        Blue   \n",
      "70  0156610001  Trousers  Garment Lower body    Solid       Black   \n",
      "\n",
      "   perceived_color                  index        section   garment_group  \\\n",
      "43           Black                  Sport  Men H&M Sport    Jersey Fancy   \n",
      "55           Black                  Sport  Men H&M Sport    Jersey Fancy   \n",
      "56            Grey                  Sport  Men H&M Sport    Jersey Fancy   \n",
      "69            Blue  Children Sizes 92-140       Kids Boy  Trousers Denim   \n",
      "70           Black                  Sport  Men H&M Sport    Jersey Fancy   \n",
      "\n",
      "      category simplified_pattern color_gategory  \n",
      "43  upper_body              solid        neutral  \n",
      "55  lower_body              solid        neutral  \n",
      "56  lower_body              solid        neutral  \n",
      "69  lower_body         structured           cool  \n",
      "70  lower_body              solid        neutral  \n"
     ]
    }
   ],
   "source": [
    "# Display updated metadata with derived columns\n",
    "print('Metadata with Derived Columns:')\n",
    "print(metadata.head())"
   ]
  },
  {
   "cell_type": "code",
   "execution_count": null,
   "metadata": {},
   "outputs": [
    {
     "name": "stdout",
     "output_type": "stream",
     "text": [
      "Processed metadata saved to ../data/compatibility/metadata.csv\n"
     ]
    }
   ],
   "source": [
    "# Save the processed metadata to a new CSV file\n",
    "metadata_file = '../../data/compatibility/metadata.csv'\n",
    "metadata.to_csv(metadata_file, index=False)\n",
    "print(f'Processed metadata saved to {metadata_file}')"
   ]
  }
 ],
 "metadata": {
  "kernelspec": {
   "display_name": "venv",
   "language": "python",
   "name": "python3"
  },
  "language_info": {
   "codemirror_mode": {
    "name": "ipython",
    "version": 3
   },
   "file_extension": ".py",
   "mimetype": "text/x-python",
   "name": "python",
   "nbconvert_exporter": "python",
   "pygments_lexer": "ipython3",
   "version": "3.11.5"
  }
 },
 "nbformat": 4,
 "nbformat_minor": 2
}
